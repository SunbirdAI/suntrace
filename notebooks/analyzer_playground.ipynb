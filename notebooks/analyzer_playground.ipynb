{
 "cells": [
  {
   "cell_type": "code",
   "execution_count": 2,
   "id": "2907a39c",
   "metadata": {},
   "outputs": [
    {
     "ename": "IndentationError",
     "evalue": "unindent does not match any outer indentation level (GeospatialAnalyzer.py, line 864)",
     "output_type": "error",
     "traceback": [
      "Traceback \u001b[1;36m(most recent call last)\u001b[0m:\n",
      "\u001b[0m  File \u001b[0;32md:\\stus\\.venv\\lib\\site-packages\\IPython\\core\\interactiveshell.py:3550\u001b[0m in \u001b[0;35mrun_code\u001b[0m\n    exec(code_obj, self.user_global_ns, self.user_ns)\u001b[0m\n",
      "\u001b[0m  Cell \u001b[0;32mIn[2], line 9\u001b[0m\n    from src.utils.factory import create_geospatial_analyzer\u001b[0m\n",
      "\u001b[1;36m  File \u001b[1;32md:\\stus\\suntrace\\src\\utils\\factory.py:7\u001b[1;36m\n\u001b[1;33m    from utils.GeospatialAnalyzer import GeospatialAnalyzer\u001b[1;36m\n",
      "\u001b[1;36m  File \u001b[1;32md:\\stus\\suntrace\\src\\utils\\GeospatialAnalyzer.py:864\u001b[1;36m\u001b[0m\n\u001b[1;33m    gdf = self.get_gdf_info_within_region(region, layer_name)\u001b[0m\n\u001b[1;37m                                                             ^\u001b[0m\n\u001b[1;31mIndentationError\u001b[0m\u001b[1;31m:\u001b[0m unindent does not match any outer indentation level\n"
     ]
    }
   ],
   "source": [
    "import os\n",
    "import sys\n",
    "\n",
    "# Add the src directory to the Python path\n",
    "notebook_dir = os.getcwd()  # Current working directory of the notebook\n",
    "parent_dir = os.path.abspath(os.path.join(notebook_dir, '..'))\n",
    "if parent_dir not in sys.path:\n",
    "    sys.path.append(parent_dir)\n",
    "from src.utils.factory import create_geospatial_analyzer"
   ]
  },
  {
   "cell_type": "code",
   "execution_count": null,
   "id": "f4b3e234",
   "metadata": {},
   "outputs": [],
   "source": [
    "import geopandas as gpd\n",
    "import pandas as pd\n",
    "import shapely"
   ]
  },
  {
   "cell_type": "code",
   "execution_count": null,
   "id": "fc0235e6",
   "metadata": {},
   "outputs": [],
   "source": [
    "sample_region = gpd.read_file(\"../data/sample_region_mudu/mudu_village.gpkg\")\n",
    "sample_region_geometry = sample_region.geometry.iloc[0] #What you pass into the GeospatialAnalyzer"
   ]
  },
  {
   "cell_type": "code",
   "execution_count": null,
   "id": "a7bdc3f0",
   "metadata": {},
   "outputs": [],
   "source": [
    "import folium\n",
    "\n",
    "# Get centroid of the region to center the map\n",
    "centroid = sample_region_geometry.centroid\n",
    "m = folium.Map(location=[centroid.y, centroid.x], zoom_start=13)\n",
    "\n",
    "# Add the region geometry to the map\n",
    "folium.GeoJson(sample_region_geometry).add_to(m)\n",
    "\n",
    "m"
   ]
  },
  {
   "cell_type": "code",
   "execution_count": null,
   "id": "894ba6c4",
   "metadata": {},
   "outputs": [],
   "source": [
    "analyzer = create_geospatial_analyzer()"
   ]
  },
  {
   "cell_type": "code",
   "execution_count": null,
   "id": "b6c751cf",
   "metadata": {},
   "outputs": [],
   "source": [
    "analyzer.count_buildings_within_region(sample_region_geometry)"
   ]
  },
  {
   "cell_type": "code",
   "execution_count": null,
   "id": "c416f006",
   "metadata": {},
   "outputs": [],
   "source": [
    "analyzer.count_features_within_region(sample_region_geometry, 'tiles')"
   ]
  },
  {
   "cell_type": "code",
   "execution_count": null,
   "id": "f3a267dd",
   "metadata": {},
   "outputs": [],
   "source": [
    "analyzer.get_layer_geometry(\"buildings\", sample_region_geometry)"
   ]
  },
  {
   "cell_type": "code",
   "execution_count": null,
   "id": "4aebfd1d",
   "metadata": {},
   "outputs": [],
   "source": [
    "analyzer.avg_ndvi(sample_region_geometry)"
   ]
  },
  {
   "cell_type": "code",
   "execution_count": null,
   "id": "aca2b7d3",
   "metadata": {},
   "outputs": [],
   "source": [
    "analyzer.get_minigrids_info_within_region(sample_region.geometry.iloc[0])\n"
   ]
  },
  {
   "cell_type": "code",
   "execution_count": null,
   "id": "74596ef2",
   "metadata": {},
   "outputs": [],
   "source": [
    "analyzer.get_tiles_info_within_region(sample_region.geometry.iloc[0])['ndvi_mean'].mean()"
   ]
  },
  {
   "cell_type": "code",
   "execution_count": null,
   "id": "4c0098df",
   "metadata": {},
   "outputs": [],
   "source": []
  }
 ],
 "metadata": {
  "kernelspec": {
   "display_name": ".venv",
   "language": "python",
   "name": "python3"
  },
  "language_info": {
   "codemirror_mode": {
    "name": "ipython",
    "version": 3
   },
   "file_extension": ".py",
   "mimetype": "text/x-python",
   "name": "python",
   "nbconvert_exporter": "python",
   "pygments_lexer": "ipython3",
   "version": "3.9.0"
  }
 },
 "nbformat": 4,
 "nbformat_minor": 5
}
