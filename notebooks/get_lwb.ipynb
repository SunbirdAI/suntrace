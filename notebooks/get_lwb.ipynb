{
  "cells": [
    {
      "cell_type": "code",
      "execution_count": null,
      "metadata": {
        "id": "UgTU08-JYFKu"
      },
      "outputs": [],
      "source": [
        "import pandas as pd\n",
        "import geopandas as gpd\n",
        "from shapely import geometry\n",
        "from tqdm import tqdm\n",
        "import os\n",
        "import tempfile\n",
        "import sys"
      ]
    },
    {
      "cell_type": "code",
      "execution_count": null,
      "metadata": {},
      "outputs": [],
      "source": [
        "# Add the src directory to the Python path\n",
        "notebook_dir = os.getcwd()  # Current working directory of the notebook\n",
        "parent_dir = os.path.abspath(os.path.join(notebook_dir, '..'))\n",
        "if parent_dir not in sys.path:\n",
        "    sys.path.append(parent_dir)"
      ]
    },
    {
      "cell_type": "code",
      "execution_count": null,
      "metadata": {},
      "outputs": [],
      "source": [
        "from google.colab import drive\n",
        "\n",
        "drive.mount('/content/drive')"
      ]
    },
    {
      "cell_type": "code",
      "execution_count": null,
      "metadata": {
        "id": "J1gDo3NKY3Jl"
      },
      "outputs": [],
      "source": [
        "AOI_PATH = '/content/drive/Shareddrives/Sunbird AI/Projects/GIZ Mini-grid Identification/Phase II/Data/administrative areas/UGA Lamwo district.gpkg'\n",
        "lamwo = gpd.read_file(AOI_PATH)"
      ]
    },
    {
      "cell_type": "code",
      "execution_count": null,
      "metadata": {
        "id": "CvWuX2JQaEpR"
      },
      "outputs": [],
      "source": [
        "lamwo.geometry.iloc[0]"
      ]
    },
    {
      "cell_type": "code",
      "execution_count": null,
      "metadata": {
        "id": "4GbJ1y4YYHjG"
      },
      "outputs": [],
      "source": [
        "# Geometry copied from drive\n",
        "\"\"\"aoi_geom = {\n",
        "    \"coordinates\": [\n",
        "        [\n",
        "            [-122.16484503187519, 47.69090474454916],\n",
        "            [-122.16484503187519, 47.6217555345674],\n",
        "            [-122.06529607517405, 47.6217555345674],\n",
        "            [-122.06529607517405, 47.69090474454916],\n",
        "            [-122.16484503187519, 47.69090474454916],\n",
        "        ]\n",
        "    ],\n",
        "    \"type\": \"Polygon\",\n",
        "}\"\"\"\n",
        "aoi_shape = lamwo.geometry.iloc[0]\n",
        "minx, miny, maxx, maxy = aoi_shape.bounds\n",
        "print(aoi_shape.bounds)\n",
        "\n",
        "output_fn = \"lamwo_building_footprints.geojson\""
      ]
    },
    {
      "cell_type": "code",
      "execution_count": null,
      "metadata": {
        "id": "tZ2gb9DyHv4K"
      },
      "outputs": [],
      "source": [
        "aglwb = 'https://services2.arcgis.com/g8WusZB13b9OegfU/arcgis/rest/services/Aboveground_Live_Woody_Biomass_Density/FeatureServer/0/query?where=1%3D1&outFields=tile_id,Mg_px_1_download,Shape__Area,Shape__Length&outSR=4326&f=json'"
      ]
    },
    {
      "cell_type": "code",
      "execution_count": null,
      "metadata": {
        "id": "Wla5YGCbTJX8"
      },
      "outputs": [],
      "source": [
        "gdf = gpd.read_file(aglwb)\n",
        "gdf.head()"
      ]
    },
    {
      "cell_type": "code",
      "execution_count": null,
      "metadata": {
        "id": "wpFQQ4LWTPp9"
      },
      "outputs": [],
      "source": [
        "intersecting_tiles_gdf = gdf[gdf.intersects(lamwo.geometry.iloc[0])]"
      ]
    },
    {
      "cell_type": "code",
      "execution_count": null,
      "metadata": {
        "id": "9cd63329"
      },
      "outputs": [],
      "source": [
        "import requests\n",
        "import rasterio\n",
        "\n",
        "# Create a directory to save the downloaded rasters\n",
        "output_raster_dir = '/content/downloaded_rasters'\n",
        "os.makedirs(output_raster_dir, exist_ok=True)\n",
        "\n",
        "# Iterate through the intersecting tiles and download the rasters\n",
        "downloaded_raster_paths = []\n",
        "for index, row in intersecting_tiles_gdf.iterrows():\n",
        "    url = row[\"Mg_px_1_download\"]\n",
        "    tile_id = row[\"tile_id\"]\n",
        "    output_path = os.path.join(output_raster_dir, f\"{tile_id}.tif\")\n",
        "\n",
        "    print(f\"Downloading {url} to {output_path}\")\n",
        "    try:\n",
        "        # Download the raster file\n",
        "        response = requests.get(url, stream=True)\n",
        "        response.raise_for_status()  # Raise an HTTPError for bad responses (4xx or 5xx)\n",
        "\n",
        "        with open(output_path, 'wb') as f:\n",
        "            for chunk in response.iter_content(chunk_size=8192):\n",
        "                f.write(chunk)\n",
        "\n",
        "        downloaded_raster_paths.append(output_path)\n",
        "        print(f\"Successfully downloaded {tile_id}.tif\")\n",
        "\n",
        "    except requests.exceptions.RequestException as e:\n",
        "        print(f\"Error downloading {url}: {e}\")\n",
        "    except Exception as e:\n",
        "        print(f\"An unexpected error occurred: {e}\")\n",
        "\n",
        "print(f\"\\nDownloaded {len(downloaded_raster_paths)} raster files to {output_raster_dir}\")"
      ]
    },
    {
      "cell_type": "code",
      "execution_count": null,
      "metadata": {
        "id": "s_Q_R9xbWl3L"
      },
      "outputs": [],
      "source": [
        "from rasterio.mask import mask\n",
        "\n",
        "# Create a directory to save the clipped rasters\n",
        "output_clipped_raster_dir = '/content/clipped_rasters'\n",
        "os.makedirs(output_clipped_raster_dir, exist_ok=True)\n",
        "\n",
        "clipped_raster_paths = []\n",
        "\n",
        "# Iterate through the downloaded rasters and clip them\n",
        "for raster_path in downloaded_raster_paths:\n",
        "    with rasterio.open(raster_path) as src:\n",
        "        out_image, out_transform = mask(src, [lamwo.geometry.iloc[0]], crop=True)\n",
        "        out_meta = src.meta.copy()\n",
        "\n",
        "        out_meta.update({\n",
        "            \"driver\": \"GTiff\",\n",
        "            \"height\": out_image.shape[1],\n",
        "            \"width\": out_image.shape[2],\n",
        "            \"transform\": out_transform\n",
        "        })\n",
        "\n",
        "        # Construct the output path for the clipped raster\n",
        "        clipped_output_path = os.path.join(output_clipped_raster_dir, os.path.basename(raster_path))\n",
        "\n",
        "        with rasterio.open(clipped_output_path, \"w\", **out_meta) as dest:\n",
        "            dest.write(out_image)\n",
        "\n",
        "        clipped_raster_paths.append(clipped_output_path)\n",
        "        print(f\"Clipped raster saved to {clipped_output_path}\")\n",
        "\n",
        "print(f\"\\nClipped {len(clipped_raster_paths)} raster files to {output_clipped_raster_dir}\")"
      ]
    },
    {
      "cell_type": "code",
      "execution_count": null,
      "metadata": {
        "id": "SdCLImX8XL_E"
      },
      "outputs": [],
      "source": []
    }
  ],
  "metadata": {
    "colab": {
      "provenance": []
    },
    "kernelspec": {
      "display_name": "Python 3",
      "name": "python3"
    },
    "language_info": {
      "name": "python"
    }
  },
  "nbformat": 4,
  "nbformat_minor": 0
}
